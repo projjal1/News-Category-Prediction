{
  "nbformat": 4,
  "nbformat_minor": 0,
  "metadata": {
    "colab": {
      "name": "BBC_News_Category_Prediction.ipynb",
      "provenance": [],
      "authorship_tag": "ABX9TyOKQxGcx0/Tjk7KvNWfg4pa",
      "include_colab_link": true
    },
    "kernelspec": {
      "name": "python3",
      "display_name": "Python 3"
    },
    "accelerator": "GPU"
  },
  "cells": [
    {
      "cell_type": "markdown",
      "metadata": {
        "id": "view-in-github",
        "colab_type": "text"
      },
      "source": [
        "<a href=\"https://colab.research.google.com/github/projjal1/News-Category-Prediction/blob/master/BBC_News_Category_Prediction.ipynb\" target=\"_parent\"><img src=\"https://colab.research.google.com/assets/colab-badge.svg\" alt=\"Open In Colab\"/></a>"
      ]
    },
    {
      "cell_type": "markdown",
      "metadata": {
        "id": "_7-vLoJEVeZy",
        "colab_type": "text"
      },
      "source": [
        "Importing all modules and checking the tensorflow version"
      ]
    },
    {
      "cell_type": "code",
      "metadata": {
        "id": "sy6OgpXMwNcq",
        "colab_type": "code",
        "colab": {
          "base_uri": "https://localhost:8080/",
          "height": 34
        },
        "outputId": "125389e4-9ae1-411d-ec8f-79ad0f273e70"
      },
      "source": [
        "import tensorflow as tf\n",
        "print(tf.__version__)"
      ],
      "execution_count": null,
      "outputs": [
        {
          "output_type": "stream",
          "text": [
            "2.3.0\n"
          ],
          "name": "stdout"
        }
      ]
    },
    {
      "cell_type": "markdown",
      "metadata": {
        "id": "29h6HlRCVlDU",
        "colab_type": "text"
      },
      "source": [
        "Downloading NLTK Corpora"
      ]
    },
    {
      "cell_type": "code",
      "metadata": {
        "id": "rNUqwYh0wkHa",
        "colab_type": "code",
        "colab": {
          "base_uri": "https://localhost:8080/",
          "height": 67
        },
        "outputId": "e3aba612-70f9-4e60-a20f-5bda852b601b"
      },
      "source": [
        "import nltk \n",
        "nltk.download('stopwords')"
      ],
      "execution_count": null,
      "outputs": [
        {
          "output_type": "stream",
          "text": [
            "[nltk_data] Downloading package stopwords to /root/nltk_data...\n",
            "[nltk_data]   Unzipping corpora/stopwords.zip.\n"
          ],
          "name": "stdout"
        },
        {
          "output_type": "execute_result",
          "data": {
            "text/plain": [
              "True"
            ]
          },
          "metadata": {
            "tags": []
          },
          "execution_count": 3
        }
      ]
    },
    {
      "cell_type": "markdown",
      "metadata": {
        "id": "_F-CT3LWVovU",
        "colab_type": "text"
      },
      "source": [
        "Importing needed modules"
      ]
    },
    {
      "cell_type": "code",
      "metadata": {
        "id": "vXYNHIztwgGq",
        "colab_type": "code",
        "colab": {}
      },
      "source": [
        "import csv\n",
        "import tensorflow as tf\n",
        "import numpy as np\n",
        "from tensorflow.keras.preprocessing.text import Tokenizer\n",
        "from tensorflow.keras.preprocessing.sequence import pad_sequences\n",
        "from nltk.corpus import stopwords\n",
        "STOPWORDS = set(stopwords.words('english'))"
      ],
      "execution_count": null,
      "outputs": []
    },
    {
      "cell_type": "markdown",
      "metadata": {
        "id": "MWww-CMiVtPA",
        "colab_type": "text"
      },
      "source": [
        "Declaring hyperparameters for text processing"
      ]
    },
    {
      "cell_type": "code",
      "metadata": {
        "id": "A_lrDFs0woCA",
        "colab_type": "code",
        "colab": {}
      },
      "source": [
        "vocab_size = 5000\n",
        "embedding_dim = 64\n",
        "max_length = 200\n",
        "trunc_type = 'post'\n",
        "padding_type = 'post'\n",
        "oov_tok = '<OOV>'\n",
        "training_portion = .8"
      ],
      "execution_count": null,
      "outputs": []
    },
    {
      "cell_type": "markdown",
      "metadata": {
        "id": "OAep0qtlVxB7",
        "colab_type": "text"
      },
      "source": [
        "Parsing the CSV file for labels and text content"
      ]
    },
    {
      "cell_type": "code",
      "metadata": {
        "id": "vExJsxLMwp0w",
        "colab_type": "code",
        "colab": {
          "base_uri": "https://localhost:8080/",
          "height": 50
        },
        "outputId": "b5e0052f-4a78-49a1-e3e0-9364abe31a93"
      },
      "source": [
        "articles = []\n",
        "labels = []\n",
        "\n",
        "with open(\"bbc-text.csv\", 'r') as csvfile:\n",
        "    reader = csv.reader(csvfile, delimiter=',')\n",
        "    next(reader)\n",
        "    for row in reader:\n",
        "        labels.append(row[0])\n",
        "        article = row[1]\n",
        "        for word in STOPWORDS:\n",
        "            token = ' ' + word + ' '\n",
        "            article = article.replace(token, ' ')\n",
        "            article = article.replace(' ', ' ')\n",
        "        articles.append(article)\n",
        "print(len(labels))\n",
        "print(len(articles))"
      ],
      "execution_count": null,
      "outputs": [
        {
          "output_type": "stream",
          "text": [
            "2225\n",
            "2225\n"
          ],
          "name": "stdout"
        }
      ]
    },
    {
      "cell_type": "markdown",
      "metadata": {
        "id": "liEOfcHgV1TP",
        "colab_type": "text"
      },
      "source": [
        "Displaying few labels"
      ]
    },
    {
      "cell_type": "code",
      "metadata": {
        "id": "m23D0BuEzGEz",
        "colab_type": "code",
        "colab": {
          "base_uri": "https://localhost:8080/",
          "height": 34
        },
        "outputId": "f5d853bd-ecac-413d-85cf-b4a96c6d5d18"
      },
      "source": [
        "labels[:3]"
      ],
      "execution_count": null,
      "outputs": [
        {
          "output_type": "execute_result",
          "data": {
            "text/plain": [
              "['tech', 'business', 'sport']"
            ]
          },
          "metadata": {
            "tags": []
          },
          "execution_count": 38
        }
      ]
    },
    {
      "cell_type": "markdown",
      "metadata": {
        "id": "3f4FVSdBV59f",
        "colab_type": "text"
      },
      "source": [
        "Splitting dataset into training and testing vectors"
      ]
    },
    {
      "cell_type": "code",
      "metadata": {
        "id": "fA7dLcRGxHu7",
        "colab_type": "code",
        "colab": {
          "base_uri": "https://localhost:8080/",
          "height": 101
        },
        "outputId": "da05ef74-3cd8-42f1-8d57-137f662b49c4"
      },
      "source": [
        "train_size = int(len(articles) * training_portion)\n",
        "\n",
        "train_articles = articles[0: train_size]\n",
        "train_labels = labels[0: train_size]\n",
        "\n",
        "validation_articles = articles[train_size:]\n",
        "validation_labels = labels[train_size:]\n",
        "\n",
        "print(train_size)\n",
        "print(len(train_articles))\n",
        "print(len(train_labels))\n",
        "print(len(validation_articles))\n",
        "print(len(validation_labels))"
      ],
      "execution_count": null,
      "outputs": [
        {
          "output_type": "stream",
          "text": [
            "1780\n",
            "1780\n",
            "1780\n",
            "445\n",
            "445\n"
          ],
          "name": "stdout"
        }
      ]
    },
    {
      "cell_type": "markdown",
      "metadata": {
        "id": "uGMZ1_gmV964",
        "colab_type": "text"
      },
      "source": [
        "Tokenizing word content"
      ]
    },
    {
      "cell_type": "code",
      "metadata": {
        "id": "_-yk_Hp2xJgQ",
        "colab_type": "code",
        "colab": {}
      },
      "source": [
        "tokenizer = Tokenizer(num_words = vocab_size, oov_token=oov_tok)\n",
        "tokenizer.fit_on_texts(train_articles)\n",
        "word_index = tokenizer.word_index"
      ],
      "execution_count": null,
      "outputs": []
    },
    {
      "cell_type": "code",
      "metadata": {
        "id": "2aEmGSAdxLmR",
        "colab_type": "code",
        "colab": {
          "base_uri": "https://localhost:8080/",
          "height": 185
        },
        "outputId": "184b3073-910c-422f-cdb5-0a37dccef776"
      },
      "source": [
        "dict(list(word_index.items())[0:10])"
      ],
      "execution_count": null,
      "outputs": [
        {
          "output_type": "execute_result",
          "data": {
            "text/plain": [
              "{'<OOV>': 1,\n",
              " 'also': 6,\n",
              " 'mr': 3,\n",
              " 'new': 8,\n",
              " 'one': 10,\n",
              " 'people': 7,\n",
              " 'said': 2,\n",
              " 'us': 9,\n",
              " 'would': 4,\n",
              " 'year': 5}"
            ]
          },
          "metadata": {
            "tags": []
          },
          "execution_count": 10
        }
      ]
    },
    {
      "cell_type": "code",
      "metadata": {
        "id": "V88cjBUGxOEZ",
        "colab_type": "code",
        "colab": {}
      },
      "source": [
        "train_sequences = tokenizer.texts_to_sequences(train_articles)"
      ],
      "execution_count": null,
      "outputs": []
    },
    {
      "cell_type": "code",
      "metadata": {
        "id": "oOtTARLVxQFq",
        "colab_type": "code",
        "colab": {
          "base_uri": "https://localhost:8080/",
          "height": 54
        },
        "outputId": "1b76a8dc-3df6-424f-f80a-eed3fdf09fe2"
      },
      "source": [
        "print(train_sequences[10])"
      ],
      "execution_count": null,
      "outputs": [
        {
          "output_type": "stream",
          "text": [
            "[2432, 1, 225, 4994, 22, 642, 587, 225, 4994, 1, 1, 1661, 1, 1, 2432, 22, 565, 1, 1, 140, 278, 1, 140, 278, 796, 823, 662, 2308, 1, 1145, 1692, 1, 1719, 4995, 1, 1, 1, 1, 1, 4737, 1, 1, 122, 4513, 1, 2, 2875, 1505, 352, 4738, 1, 52, 341, 1, 352, 2171, 3962, 41, 22, 3794, 1, 1, 1, 1, 543, 1, 1, 1, 835, 631, 2367, 347, 4739, 1, 365, 22, 1, 787, 2368, 1, 4301, 138, 10, 1, 3665, 682, 3531, 1, 22, 1, 414, 823, 662, 1, 90, 13, 633, 1, 225, 4994, 1, 599, 1, 1692, 1021, 1, 4996, 807, 1863, 117, 1, 1, 1, 2975, 22, 1, 99, 278, 1, 1606, 4997, 543, 492, 1, 1443, 4740, 779, 1320, 1, 1860, 10, 33, 642, 319, 1, 62, 478, 565, 301, 1506, 22, 479, 1, 1, 1664, 1, 797, 1, 3067, 1, 1364, 6, 1, 2432, 565, 22, 2972, 4734, 1, 1, 1, 1, 1, 850, 39, 1824, 675, 297, 26, 979, 1, 882, 22, 361, 22, 13, 301, 1506, 1342, 374, 20, 63, 883, 1096, 4302, 247]\n"
          ],
          "name": "stdout"
        }
      ]
    },
    {
      "cell_type": "markdown",
      "metadata": {
        "id": "iwDvFxgMWBMo",
        "colab_type": "text"
      },
      "source": [
        "Padding extra characters at the end of the dataset of text"
      ]
    },
    {
      "cell_type": "code",
      "metadata": {
        "id": "hksOgHNxxSA4",
        "colab_type": "code",
        "colab": {}
      },
      "source": [
        "train_padded = pad_sequences(train_sequences, maxlen=max_length, padding=padding_type, truncating=trunc_type)"
      ],
      "execution_count": null,
      "outputs": []
    },
    {
      "cell_type": "code",
      "metadata": {
        "id": "w7iSq1GfxUGx",
        "colab_type": "code",
        "colab": {
          "base_uri": "https://localhost:8080/",
          "height": 118
        },
        "outputId": "de9c84ec-f3dc-4890-8e38-8f865adf96cc"
      },
      "source": [
        "print(len(train_sequences[0]))\n",
        "print(len(train_padded[0]))\n",
        "\n",
        "print(len(train_sequences[1]))\n",
        "print(len(train_padded[1]))\n",
        "\n",
        "print(len(train_sequences[10]))\n",
        "print(len(train_padded[10]))"
      ],
      "execution_count": null,
      "outputs": [
        {
          "output_type": "stream",
          "text": [
            "425\n",
            "200\n",
            "192\n",
            "200\n",
            "186\n",
            "200\n"
          ],
          "name": "stdout"
        }
      ]
    },
    {
      "cell_type": "code",
      "metadata": {
        "id": "yqCoFTqLxX-Y",
        "colab_type": "code",
        "colab": {
          "base_uri": "https://localhost:8080/",
          "height": 54
        },
        "outputId": "7a451f0e-cdf3-430c-9fc6-38d3b478b251"
      },
      "source": [
        "print(train_sequences[10])"
      ],
      "execution_count": null,
      "outputs": [
        {
          "output_type": "stream",
          "text": [
            "[2432, 1, 225, 4994, 22, 642, 587, 225, 4994, 1, 1, 1661, 1, 1, 2432, 22, 565, 1, 1, 140, 278, 1, 140, 278, 796, 823, 662, 2308, 1, 1145, 1692, 1, 1719, 4995, 1, 1, 1, 1, 1, 4737, 1, 1, 122, 4513, 1, 2, 2875, 1505, 352, 4738, 1, 52, 341, 1, 352, 2171, 3962, 41, 22, 3794, 1, 1, 1, 1, 543, 1, 1, 1, 835, 631, 2367, 347, 4739, 1, 365, 22, 1, 787, 2368, 1, 4301, 138, 10, 1, 3665, 682, 3531, 1, 22, 1, 414, 823, 662, 1, 90, 13, 633, 1, 225, 4994, 1, 599, 1, 1692, 1021, 1, 4996, 807, 1863, 117, 1, 1, 1, 2975, 22, 1, 99, 278, 1, 1606, 4997, 543, 492, 1, 1443, 4740, 779, 1320, 1, 1860, 10, 33, 642, 319, 1, 62, 478, 565, 301, 1506, 22, 479, 1, 1, 1664, 1, 797, 1, 3067, 1, 1364, 6, 1, 2432, 565, 22, 2972, 4734, 1, 1, 1, 1, 1, 850, 39, 1824, 675, 297, 26, 979, 1, 882, 22, 361, 22, 13, 301, 1506, 1342, 374, 20, 63, 883, 1096, 4302, 247]\n"
          ],
          "name": "stdout"
        }
      ]
    },
    {
      "cell_type": "code",
      "metadata": {
        "id": "-te525y6xZ_B",
        "colab_type": "code",
        "colab": {
          "base_uri": "https://localhost:8080/",
          "height": 269
        },
        "outputId": "9dbc1051-2eb3-4247-c03a-f6e87ec41de2"
      },
      "source": [
        "print(train_padded[10])"
      ],
      "execution_count": null,
      "outputs": [
        {
          "output_type": "stream",
          "text": [
            "[2432    1  225 4994   22  642  587  225 4994    1    1 1661    1    1\n",
            " 2432   22  565    1    1  140  278    1  140  278  796  823  662 2308\n",
            "    1 1145 1692    1 1719 4995    1    1    1    1    1 4737    1    1\n",
            "  122 4513    1    2 2875 1505  352 4738    1   52  341    1  352 2171\n",
            " 3962   41   22 3794    1    1    1    1  543    1    1    1  835  631\n",
            " 2367  347 4739    1  365   22    1  787 2368    1 4301  138   10    1\n",
            " 3665  682 3531    1   22    1  414  823  662    1   90   13  633    1\n",
            "  225 4994    1  599    1 1692 1021    1 4996  807 1863  117    1    1\n",
            "    1 2975   22    1   99  278    1 1606 4997  543  492    1 1443 4740\n",
            "  779 1320    1 1860   10   33  642  319    1   62  478  565  301 1506\n",
            "   22  479    1    1 1664    1  797    1 3067    1 1364    6    1 2432\n",
            "  565   22 2972 4734    1    1    1    1    1  850   39 1824  675  297\n",
            "   26  979    1  882   22  361   22   13  301 1506 1342  374   20   63\n",
            "  883 1096 4302  247    0    0    0    0    0    0    0    0    0    0\n",
            "    0    0    0    0]\n"
          ],
          "name": "stdout"
        }
      ]
    },
    {
      "cell_type": "code",
      "metadata": {
        "id": "L0vJ4-8XxbkR",
        "colab_type": "code",
        "colab": {
          "base_uri": "https://localhost:8080/",
          "height": 54
        },
        "outputId": "3fd64c3a-a319-4446-b668-6b200ebdea0f"
      },
      "source": [
        "print(train_sequences[0])"
      ],
      "execution_count": null,
      "outputs": [
        {
          "output_type": "stream",
          "text": [
            "[91, 160, 1142, 1106, 49, 979, 755, 1, 89, 1304, 4288, 129, 175, 3654, 1215, 1196, 1576, 42, 7, 893, 91, 1, 334, 85, 20, 14, 130, 3262, 1216, 2422, 570, 451, 1375, 58, 3378, 3521, 1659, 8, 921, 730, 10, 844, 1, 9, 598, 1577, 1107, 395, 1939, 1106, 731, 49, 537, 1397, 2010, 1621, 134, 249, 113, 2356, 795, 4979, 980, 584, 10, 3956, 3957, 921, 2563, 129, 344, 175, 3654, 1, 1, 39, 62, 2868, 28, 9, 4722, 18, 1305, 136, 416, 7, 143, 1422, 71, 4500, 436, 4980, 91, 1107, 77, 1, 82, 2011, 53, 1, 91, 6, 1008, 609, 89, 1304, 91, 1961, 131, 137, 420, 9, 2869, 38, 152, 1234, 89, 1304, 4723, 7, 436, 4980, 3154, 6, 2493, 1, 431, 1127, 1, 1423, 571, 1261, 1901, 1, 766, 9, 537, 1397, 2010, 134, 2068, 400, 845, 1962, 1599, 34, 1715, 2870, 1, 1, 2423, 244, 9, 2625, 82, 732, 6, 1173, 1197, 152, 720, 591, 1, 124, 28, 1305, 1688, 432, 83, 933, 115, 20, 14, 18, 3155, 1, 37, 1484, 1, 23, 37, 87, 335, 2357, 37, 467, 255, 1962, 1358, 328, 1, 299, 732, 1174, 18, 2871, 1715, 1, 294, 756, 1074, 395, 2012, 387, 431, 2012, 2, 1359, 1, 1715, 2165, 67, 1, 1, 1716, 249, 1660, 3060, 1175, 395, 41, 878, 246, 2793, 345, 53, 548, 400, 2, 1, 1, 655, 1360, 202, 91, 3958, 91, 90, 42, 7, 320, 395, 77, 893, 1, 91, 1106, 400, 537, 9, 845, 2423, 11, 38, 1, 995, 513, 483, 2069, 160, 572, 1, 128, 7, 320, 77, 893, 1217, 1127, 1464, 346, 54, 2214, 1218, 741, 92, 256, 274, 1019, 71, 623, 346, 2424, 756, 1216, 2358, 1717, 1, 3783, 3522, 1, 1127, 2012, 177, 371, 1398, 77, 53, 548, 105, 1142, 3, 1, 1047, 93, 2963, 1, 2626, 1, 102, 902, 440, 452, 2, 3, 1, 2872, 451, 1424, 43, 77, 429, 31, 8, 1019, 921, 1, 2563, 30, 1, 91, 1689, 879, 89, 1304, 91, 1961, 1, 30, 8, 1622, 1, 1, 4289, 1578, 4288, 656, 1, 3784, 1008, 572, 4290, 2868, 10, 880, 656, 58, 1, 1262, 1, 1, 91, 1552, 934, 4722, 1, 577, 4105, 10, 9, 235, 2010, 91, 134, 1, 95, 656, 3263, 1, 58, 519, 673, 2627, 3784, 4981, 3379, 483, 4724, 39, 4500, 1, 91, 1746, 673, 269, 116, 239, 2628, 354, 644, 58, 4106, 757, 3655, 4722, 146, 1, 400, 7, 71, 1747, 1107, 767, 910, 118, 584, 3380, 1316, 1577, 1, 1600, 7, 893, 77, 77]\n"
          ],
          "name": "stdout"
        }
      ]
    },
    {
      "cell_type": "code",
      "metadata": {
        "id": "9Nj9IZisxdRB",
        "colab_type": "code",
        "colab": {
          "base_uri": "https://localhost:8080/",
          "height": 269
        },
        "outputId": "013741b3-4508-4213-9de2-93a6a3b76f9e"
      },
      "source": [
        "print(train_padded[0])"
      ],
      "execution_count": null,
      "outputs": [
        {
          "output_type": "stream",
          "text": [
            "[  91  160 1142 1106   49  979  755    1   89 1304 4288  129  175 3654\n",
            " 1215 1196 1576   42    7  893   91    1  334   85   20   14  130 3262\n",
            " 1216 2422  570  451 1375   58 3378 3521 1659    8  921  730   10  844\n",
            "    1    9  598 1577 1107  395 1939 1106  731   49  537 1397 2010 1621\n",
            "  134  249  113 2356  795 4979  980  584   10 3956 3957  921 2563  129\n",
            "  344  175 3654    1    1   39   62 2868   28    9 4722   18 1305  136\n",
            "  416    7  143 1422   71 4500  436 4980   91 1107   77    1   82 2011\n",
            "   53    1   91    6 1008  609   89 1304   91 1961  131  137  420    9\n",
            " 2869   38  152 1234   89 1304 4723    7  436 4980 3154    6 2493    1\n",
            "  431 1127    1 1423  571 1261 1901    1  766    9  537 1397 2010  134\n",
            " 2068  400  845 1962 1599   34 1715 2870    1    1 2423  244    9 2625\n",
            "   82  732    6 1173 1197  152  720  591    1  124   28 1305 1688  432\n",
            "   83  933  115   20   14   18 3155    1   37 1484    1   23   37   87\n",
            "  335 2357   37  467  255 1962 1358  328    1  299  732 1174   18 2871\n",
            " 1715    1  294  756]\n"
          ],
          "name": "stdout"
        }
      ]
    },
    {
      "cell_type": "markdown",
      "metadata": {
        "id": "SJVg0muHWGJ4",
        "colab_type": "text"
      },
      "source": [
        "Padding the validation portion of the text content"
      ]
    },
    {
      "cell_type": "code",
      "metadata": {
        "id": "EsRyM7sFxfEB",
        "colab_type": "code",
        "colab": {
          "base_uri": "https://localhost:8080/",
          "height": 50
        },
        "outputId": "4d0fce28-b5c0-4593-ca22-59a7fd1a39c6"
      },
      "source": [
        "validation_sequences = tokenizer.texts_to_sequences(validation_articles)\n",
        "validation_padded = pad_sequences(validation_sequences, maxlen=max_length, padding=padding_type, truncating=trunc_type)\n",
        "\n",
        "print(len(validation_sequences))\n",
        "print(validation_padded.shape)"
      ],
      "execution_count": null,
      "outputs": [
        {
          "output_type": "stream",
          "text": [
            "445\n",
            "(445, 200)\n"
          ],
          "name": "stdout"
        }
      ]
    },
    {
      "cell_type": "code",
      "metadata": {
        "id": "7gT98EJLxhfR",
        "colab_type": "code",
        "colab": {
          "base_uri": "https://localhost:8080/",
          "height": 34
        },
        "outputId": "b0f6b8d6-8180-43a8-a5a5-11cc8398e68c"
      },
      "source": [
        "print(set(labels))"
      ],
      "execution_count": null,
      "outputs": [
        {
          "output_type": "stream",
          "text": [
            "{'business', 'tech', 'entertainment', 'politics', 'sport'}\n"
          ],
          "name": "stdout"
        }
      ]
    },
    {
      "cell_type": "code",
      "metadata": {
        "id": "tkwPjcjxxlh5",
        "colab_type": "code",
        "colab": {}
      },
      "source": [
        "label_tokenizer = Tokenizer()\n",
        "label_tokenizer.fit_on_texts(labels)\n",
        "\n",
        "training_label_seq = np.array(label_tokenizer.texts_to_sequences(train_labels))\n",
        "validation_label_seq = np.array(label_tokenizer.texts_to_sequences(validation_labels))"
      ],
      "execution_count": null,
      "outputs": []
    },
    {
      "cell_type": "code",
      "metadata": {
        "id": "UP0L2kb5xn0g",
        "colab_type": "code",
        "colab": {
          "base_uri": "https://localhost:8080/",
          "height": 151
        },
        "outputId": "0d8c5a67-e163-43d4-d582-d4b2e22bc1ae"
      },
      "source": [
        "print(training_label_seq[0])\n",
        "print(training_label_seq[1])\n",
        "print(training_label_seq[2])\n",
        "print(training_label_seq.shape)\n",
        "\n",
        "print(validation_label_seq[0])\n",
        "print(validation_label_seq[1])\n",
        "print(validation_label_seq[2])\n",
        "print(validation_label_seq.shape)"
      ],
      "execution_count": null,
      "outputs": [
        {
          "output_type": "stream",
          "text": [
            "[4]\n",
            "[2]\n",
            "[1]\n",
            "(1780, 1)\n",
            "[5]\n",
            "[4]\n",
            "[3]\n",
            "(445, 1)\n"
          ],
          "name": "stdout"
        }
      ]
    },
    {
      "cell_type": "code",
      "metadata": {
        "id": "cOeW81jA2bTq",
        "colab_type": "code",
        "colab": {
          "base_uri": "https://localhost:8080/",
          "height": 67
        },
        "outputId": "cd11ac1b-6111-4995-fa2a-58a88724291d"
      },
      "source": [
        "validation_label_seq[:3]"
      ],
      "execution_count": null,
      "outputs": [
        {
          "output_type": "execute_result",
          "data": {
            "text/plain": [
              "array([[5],\n",
              "       [4],\n",
              "       [3]])"
            ]
          },
          "metadata": {
            "tags": []
          },
          "execution_count": 43
        }
      ]
    },
    {
      "cell_type": "code",
      "metadata": {
        "id": "nFPwOZNuxp1A",
        "colab_type": "code",
        "colab": {
          "base_uri": "https://localhost:8080/",
          "height": 87
        },
        "outputId": "387af256-c06b-4d66-d80c-dd4160e7772c"
      },
      "source": [
        "reverse_word_index = dict([(value, key) for (key, value) in word_index.items()])\n",
        "\n",
        "def decode_article(text):\n",
        "    return ' '.join([reverse_word_index.get(i, '?') for i in text])\n",
        "print(decode_article(train_padded[10]))\n",
        "print('---')\n",
        "print(train_articles[10])"
      ],
      "execution_count": null,
      "outputs": [
        {
          "output_type": "stream",
          "text": [
            "berlin <OOV> anti nazi film german movie anti nazi <OOV> <OOV> drawn <OOV> <OOV> berlin film festival <OOV> <OOV> final days <OOV> final days member white rose movement <OOV> 21 arrested <OOV> brother hans <OOV> <OOV> <OOV> <OOV> <OOV> tyranny <OOV> <OOV> director marc <OOV> said feeling responsibility keep legacy <OOV> going must <OOV> keep ideas alive added film drew <OOV> <OOV> <OOV> <OOV> trial <OOV> <OOV> <OOV> east germany secret police discovery <OOV> behind film <OOV> worked closely <OOV> relatives including one <OOV> sisters ensure historical <OOV> film <OOV> members white rose <OOV> group first started <OOV> anti nazi <OOV> summer <OOV> arrested dropped <OOV> munich university calling day <OOV> <OOV> <OOV> regime film <OOV> six days <OOV> arrest intense trial saw <OOV> initially deny charges ended <OOV> appearance one three german films <OOV> top prize festival south african film version <OOV> <OOV> opera <OOV> shot <OOV> town <OOV> language also <OOV> berlin festival film entitled u <OOV> <OOV> <OOV> <OOV> <OOV> story set performed 40 strong music theatre <OOV> debut film performance film first south african feature 25 years second nominated golden bear award ? ? ? ? ? ? ? ? ? ? ? ? ? ?\n",
            "---\n",
            "berlin cheers anti-nazi film german movie anti-nazi resistance heroine drawn loud applause berlin film festival.  sophie scholl - final days portrays final days member white rose movement. scholl  21  arrested beheaded brother  hans  1943 distributing leaflets condemning  abhorrent tyranny  adolf hitler. director marc rothemund said:  feeling responsibility keep legacy scholls going.   must somehow keep ideas alive   added.  film drew transcripts gestapo interrogations scholl trial preserved archive communist east germany secret police. discovery inspiration behind film rothemund  worked closely surviving relatives  including one scholl sisters  ensure historical accuracy film. scholl members white rose resistance group first started distributing anti-nazi leaflets summer 1942. arrested dropped leaflets munich university calling  day reckoning  adolf hitler regime. film focuses six days scholl arrest intense trial saw scholl initially deny charges ended defiant appearance. one three german films vying top prize festival.  south african film version bizet tragic opera carmen shot cape town xhosa language also premiered berlin festival. film entitled u-carmen ekhayelitsha carmen khayelitsha township story set. performed 40-strong music theatre troupe debut film performance. film first south african feature 25 years second nominated golden bear award.\n"
          ],
          "name": "stdout"
        }
      ]
    },
    {
      "cell_type": "markdown",
      "metadata": {
        "id": "4XJS-75IWLYN",
        "colab_type": "text"
      },
      "source": [
        "Building the model with relu and softmax activation"
      ]
    },
    {
      "cell_type": "code",
      "metadata": {
        "id": "ojzYEopnxsDS",
        "colab_type": "code",
        "colab": {
          "base_uri": "https://localhost:8080/",
          "height": 286
        },
        "outputId": "e3c092e5-c2eb-4ffe-a684-68f653adb01d"
      },
      "source": [
        "model = tf.keras.Sequential([\n",
        "    # Add an Embedding layer expecting input vocab of size 5000, and output embedding dimension of size 64 we set at the top\n",
        "    tf.keras.layers.Embedding(vocab_size, embedding_dim),\n",
        "    tf.keras.layers.Bidirectional(tf.keras.layers.LSTM(embedding_dim)),\n",
        "#    tf.keras.layers.Bidirectional(tf.keras.layers.LSTM(32)),\n",
        "    # use ReLU in place of tanh function since they are very good alternatives of each other.\n",
        "    tf.keras.layers.Dense(embedding_dim, activation='relu'),\n",
        "    # Add a Dense layer with 6 units and softmax activation.\n",
        "    # When we have multiple outputs, softmax convert outputs layers into a probability distribution.\n",
        "    tf.keras.layers.Dense(6, activation='softmax')\n",
        "])\n",
        "model.summary()"
      ],
      "execution_count": null,
      "outputs": [
        {
          "output_type": "stream",
          "text": [
            "Model: \"sequential_2\"\n",
            "_________________________________________________________________\n",
            "Layer (type)                 Output Shape              Param #   \n",
            "=================================================================\n",
            "embedding_2 (Embedding)      (None, None, 64)          320000    \n",
            "_________________________________________________________________\n",
            "bidirectional_2 (Bidirection (None, 128)               66048     \n",
            "_________________________________________________________________\n",
            "dense_4 (Dense)              (None, 64)                8256      \n",
            "_________________________________________________________________\n",
            "dense_5 (Dense)              (None, 6)                 390       \n",
            "=================================================================\n",
            "Total params: 394,694\n",
            "Trainable params: 394,694\n",
            "Non-trainable params: 0\n",
            "_________________________________________________________________\n"
          ],
          "name": "stdout"
        }
      ]
    },
    {
      "cell_type": "markdown",
      "metadata": {
        "id": "NJeOD89fWRVZ",
        "colab_type": "text"
      },
      "source": [
        "Compilation of the model using Sparse Categorical Cross-Entropy loss for multi-class classifier, using Adam as a optimizer "
      ]
    },
    {
      "cell_type": "code",
      "metadata": {
        "id": "nZTvnHE4xxyw",
        "colab_type": "code",
        "colab": {}
      },
      "source": [
        "model.compile(loss='sparse_categorical_crossentropy', optimizer='adam', metrics=['accuracy'])"
      ],
      "execution_count": null,
      "outputs": []
    },
    {
      "cell_type": "markdown",
      "metadata": {
        "id": "8xKM_xIcWcv4",
        "colab_type": "text"
      },
      "source": [
        "Training the model"
      ]
    },
    {
      "cell_type": "code",
      "metadata": {
        "id": "H4XvIoZrx22Y",
        "colab_type": "code",
        "colab": {
          "base_uri": "https://localhost:8080/",
          "height": 370
        },
        "outputId": "0565c251-d2eb-40a5-b655-eb64f5d86490"
      },
      "source": [
        "model.fit(train_padded, training_label_seq, epochs=10, validation_data=(validation_padded, validation_label_seq))"
      ],
      "execution_count": null,
      "outputs": [
        {
          "output_type": "stream",
          "text": [
            "Epoch 1/10\n",
            "56/56 [==============================] - 2s 35ms/step - loss: 0.0068 - accuracy: 0.9989 - val_loss: 0.4411 - val_accuracy: 0.9169\n",
            "Epoch 2/10\n",
            "56/56 [==============================] - 1s 23ms/step - loss: 0.0031 - accuracy: 0.9994 - val_loss: 0.3978 - val_accuracy: 0.9169\n",
            "Epoch 3/10\n",
            "56/56 [==============================] - 1s 23ms/step - loss: 5.1150e-04 - accuracy: 1.0000 - val_loss: 0.4567 - val_accuracy: 0.9124\n",
            "Epoch 4/10\n",
            "56/56 [==============================] - 1s 23ms/step - loss: 9.8203e-05 - accuracy: 1.0000 - val_loss: 0.4533 - val_accuracy: 0.9213\n",
            "Epoch 5/10\n",
            "56/56 [==============================] - 1s 23ms/step - loss: 5.5695e-05 - accuracy: 1.0000 - val_loss: 0.4558 - val_accuracy: 0.9236\n",
            "Epoch 6/10\n",
            "56/56 [==============================] - 1s 23ms/step - loss: 4.3894e-05 - accuracy: 1.0000 - val_loss: 0.4581 - val_accuracy: 0.9258\n",
            "Epoch 7/10\n",
            "56/56 [==============================] - 1s 23ms/step - loss: 3.5750e-05 - accuracy: 1.0000 - val_loss: 0.4608 - val_accuracy: 0.9258\n",
            "Epoch 8/10\n",
            "56/56 [==============================] - 1s 23ms/step - loss: 2.9993e-05 - accuracy: 1.0000 - val_loss: 0.4629 - val_accuracy: 0.9281\n",
            "Epoch 9/10\n",
            "56/56 [==============================] - 1s 23ms/step - loss: 2.6285e-05 - accuracy: 1.0000 - val_loss: 0.4648 - val_accuracy: 0.9281\n",
            "Epoch 10/10\n",
            "56/56 [==============================] - 1s 23ms/step - loss: 2.2564e-05 - accuracy: 1.0000 - val_loss: 0.4670 - val_accuracy: 0.9258\n"
          ],
          "name": "stdout"
        },
        {
          "output_type": "execute_result",
          "data": {
            "text/plain": [
              "<tensorflow.python.keras.callbacks.History at 0x7fa596477ef0>"
            ]
          },
          "metadata": {
            "tags": []
          },
          "execution_count": 33
        }
      ]
    },
    {
      "cell_type": "markdown",
      "metadata": {
        "id": "djMecSp-Weww",
        "colab_type": "text"
      },
      "source": [
        "Predicting few examples "
      ]
    },
    {
      "cell_type": "code",
      "metadata": {
        "id": "8XLZoHPqySar",
        "colab_type": "code",
        "colab": {
          "base_uri": "https://localhost:8080/",
          "height": 34
        },
        "outputId": "71f7d258-eb4d-41af-97ad-10b7478a6b04"
      },
      "source": [
        "txt = [\"A WeWork shareholder has taken the company to court over the near-$1.7bn (£1.3bn) leaving package approved for ousted co-founder Adam Neumann.\"]\n",
        "seq = tokenizer.texts_to_sequences(txt)\n",
        "padded = pad_sequences(seq, maxlen=max_length)\n",
        "pred = model.predict(padded)\n",
        "labels = ['sport', 'bussiness', 'politics', 'tech', 'entertainment']\n",
        "print( labels[np.argmax(pred)])"
      ],
      "execution_count": null,
      "outputs": [
        {
          "output_type": "stream",
          "text": [
            "politics\n"
          ],
          "name": "stdout"
        }
      ]
    }
  ]
}